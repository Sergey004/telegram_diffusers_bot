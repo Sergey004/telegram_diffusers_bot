{
 "cells": [
  {
   "cell_type": "markdown",
   "metadata": {},
   "source": [
    "# Telegram Diffusers Bot (SDXL) – Google Colab Setup"
   ]
  },
  {
   "cell_type": "markdown",
   "metadata": {},
   "source": [
    "This notebook will install all required dependencies, clone the repository, set up the environment variables, and start the Telegram bot that uses **Stable Diffusion XL (SDXL)** with optional LoRA models and optional LLM‑generated prompts (via Nvidia NIM)."
   ]
  },
  {
   "cell_type": "code",
   "execution_count": null,
   "id": "4f2670b7",
   "metadata": {},
   "outputs": [],
   "source": [
    "#Keep this tab alive to prevent Colab from disconnecting you { display-mode: \"form\" }\n",
    "\n",
    "#@markdown Press play on the music player that will appear below:\n",
    "%%html\n",
    "<audio src=\"https://oobabooga.github.io/silence.m4a\" controls>"
   ]
  },
  {
   "cell_type": "code",
   "execution_count": null,
   "metadata": {},
   "outputs": [],
   "source": [
    "# 1️⃣ Install dependencies\\n\n",
    "!pip install -q -r https://raw.githubusercontent.com/yourusername/telegram_diffusers_bot/main/requirements.txt\\n\n",
    "# Install torch with CUDA support (adjust version if needed)\\n\n",
    "!pip install -q torch torchvision torchaudio --extra-index-url https://download.pytorch.org/whl/cu118"
   ]
  },
  {
   "cell_type": "code",
   "execution_count": null,
   "metadata": {},
   "outputs": [],
   "source": [
    "# 2️⃣ Clone the repository (or upload the files manually)\\n\n",
    "!git clone https://github.com/yourusername/telegram_diffusers_bot.git\\n\n",
    "%cd telegram_diffusers_bot"
   ]
  },
  {
   "cell_type": "code",
   "execution_count": null,
   "metadata": {},
   "outputs": [],
   "source": [
    "# 3️⃣ Create a .env file from the example – fill in your values\\n\n",
    "%%writefile config/.env\\n\n",
    "TELEGRAM_TOKEN=YOUR_TELEGRAM_BOT_TOKEN\\n\n",
    "CHANNEL_ID=YOUR_TARGET_CHANNEL_ID   # e.g. -1001234567890\\n\n",
    "NVIDIA_API_KEY=YOUR_NVIDIA_API_KEY   # optional, needed for LLM prompt generation"
   ]
  },
  {
   "cell_type": "markdown",
   "metadata": {},
   "source": [
    "Replace the placeholder values in the `.env` file with your actual Telegram bot token, the numeric ID of the channel where images should be posted, and (optionally) your Nvidia NIM API key."
   ]
  },
  {
   "cell_type": "code",
   "execution_count": null,
   "metadata": {},
   "outputs": [],
   "source": [
    "# 4️⃣ Run the bot (this cell will keep running)\\n\n",
    "!python bot/main.py"
   ]
  },
  {
   "cell_type": "markdown",
   "metadata": {},
   "source": [
    "The bot will start polling Telegram. Keep this cell running (do not interrupt) to keep the bot alive.\\n\n",
    "You can stop the bot at any time by clicking the **Stop** button in the notebook toolbar."
   ]
  }
 ],
 "metadata": {
  "kernelspec": {
   "display_name": "Python 3",
   "language": "python",
   "name": "python3"
  },
  "language_info": {
   "name": "python",
   "version": "3.10"
  }
 },
 "nbformat": 4,
 "nbformat_minor": 5
}
