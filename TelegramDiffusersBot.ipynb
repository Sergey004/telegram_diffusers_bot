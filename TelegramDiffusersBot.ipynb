{
  "cells": [
    {
      "cell_type": "markdown",
      "id": "KbnhpmAxFadS",
      "metadata": {
        "id": "KbnhpmAxFadS"
      },
      "source": [
        "# Telegram Diffusers Bot (SDXL) – Google Colab Setup"
      ]
    },
    {
      "cell_type": "markdown",
      "id": "U4sfWnCgFadU",
      "metadata": {
        "id": "U4sfWnCgFadU"
      },
      "source": [
        "This notebook will install all required dependencies, clone the repository, set up the environment variables, and start the Telegram bot that uses **Stable Diffusion XL (SDXL)** with optional LoRA models and optional LLM‑generated prompts (via Nvidia NIM)."
      ]
    },
    {
      "cell_type": "code",
      "execution_count": null,
      "id": "4f2670b7",
      "metadata": {
        "id": "4f2670b7"
      },
      "outputs": [],
      "source": [
        "#Keep this tab alive to prevent Colab from disconnecting you { display-mode: \"form\" }\n",
        "\n",
        "#@markdown Press play on the music player that will appear below:\n",
        "%%html\n",
        "<audio src=\"https://oobabooga.github.io/silence.m4a\" controls>"
      ]
    },
    {
      "cell_type": "code",
      "execution_count": null,
      "id": "582cLsJ7FadX",
      "metadata": {
        "id": "582cLsJ7FadX"
      },
      "outputs": [],
      "source": [
        "# 2️⃣ Clone the repository (or upload the files manually)\\n\n",
        "!git clone https://github.com/Sergey004/telegram_diffusers_bot.git\\\n",
        "%cd telegram_diffusers_bot"
      ]
    },
    {
      "cell_type": "code",
      "execution_count": 2,
      "id": "-y_r7qZnFadW",
      "metadata": {
        "id": "-y_r7qZnFadW"
      },
      "outputs": [
        {
          "name": "stdout",
          "output_type": "stream",
          "text": [
            "Requirement already satisfied: python-telegram-bot>=20.0 in c:\\users\\sergey004\\source\\repos\\telegram_diffusers_bot\\.venv\\lib\\site-packages (from -r requirements.txt (line 1)) (22.3)\n",
            "Requirement already satisfied: torch>=2.0.0 in c:\\users\\sergey004\\source\\repos\\telegram_diffusers_bot\\.venv\\lib\\site-packages (from -r requirements.txt (line 2)) (2.8.0)\n",
            "Requirement already satisfied: diffusers>=0.26.0 in c:\\users\\sergey004\\source\\repos\\telegram_diffusers_bot\\.venv\\lib\\site-packages (from diffusers[torch]>=0.26.0->-r requirements.txt (line 3)) (0.35.1)\n",
            "Requirement already satisfied: transformers>=4.40.0 in c:\\users\\sergey004\\source\\repos\\telegram_diffusers_bot\\.venv\\lib\\site-packages (from -r requirements.txt (line 4)) (4.56.0)\n",
            "Requirement already satisfied: accelerate>=0.30.0 in c:\\users\\sergey004\\source\\repos\\telegram_diffusers_bot\\.venv\\lib\\site-packages (from -r requirements.txt (line 5)) (1.10.1)\n",
            "Requirement already satisfied: requests>=2.31.0 in c:\\users\\sergey004\\source\\repos\\telegram_diffusers_bot\\.venv\\lib\\site-packages (from -r requirements.txt (line 6)) (2.32.5)\n",
            "Requirement already satisfied: python-dotenv>=1.0.0 in c:\\users\\sergey004\\source\\repos\\telegram_diffusers_bot\\.venv\\lib\\site-packages (from -r requirements.txt (line 7)) (1.1.1)\n",
            "Requirement already satisfied: aiohttp>=3.9.0 in c:\\users\\sergey004\\source\\repos\\telegram_diffusers_bot\\.venv\\lib\\site-packages (from -r requirements.txt (line 8)) (3.12.15)\n",
            "Requirement already satisfied: httpx<0.29,>=0.27 in c:\\users\\sergey004\\source\\repos\\telegram_diffusers_bot\\.venv\\lib\\site-packages (from python-telegram-bot>=20.0->-r requirements.txt (line 1)) (0.28.1)\n",
            "Requirement already satisfied: anyio in c:\\users\\sergey004\\source\\repos\\telegram_diffusers_bot\\.venv\\lib\\site-packages (from httpx<0.29,>=0.27->python-telegram-bot>=20.0->-r requirements.txt (line 1)) (4.10.0)\n",
            "Requirement already satisfied: certifi in c:\\users\\sergey004\\source\\repos\\telegram_diffusers_bot\\.venv\\lib\\site-packages (from httpx<0.29,>=0.27->python-telegram-bot>=20.0->-r requirements.txt (line 1)) (2025.8.3)\n",
            "Requirement already satisfied: httpcore==1.* in c:\\users\\sergey004\\source\\repos\\telegram_diffusers_bot\\.venv\\lib\\site-packages (from httpx<0.29,>=0.27->python-telegram-bot>=20.0->-r requirements.txt (line 1)) (1.0.9)\n",
            "Requirement already satisfied: idna in c:\\users\\sergey004\\source\\repos\\telegram_diffusers_bot\\.venv\\lib\\site-packages (from httpx<0.29,>=0.27->python-telegram-bot>=20.0->-r requirements.txt (line 1)) (3.10)\n",
            "Requirement already satisfied: h11>=0.16 in c:\\users\\sergey004\\source\\repos\\telegram_diffusers_bot\\.venv\\lib\\site-packages (from httpcore==1.*->httpx<0.29,>=0.27->python-telegram-bot>=20.0->-r requirements.txt (line 1)) (0.16.0)\n",
            "Requirement already satisfied: filelock in c:\\users\\sergey004\\source\\repos\\telegram_diffusers_bot\\.venv\\lib\\site-packages (from torch>=2.0.0->-r requirements.txt (line 2)) (3.19.1)\n",
            "Requirement already satisfied: typing-extensions>=4.10.0 in c:\\users\\sergey004\\source\\repos\\telegram_diffusers_bot\\.venv\\lib\\site-packages (from torch>=2.0.0->-r requirements.txt (line 2)) (4.15.0)\n",
            "Requirement already satisfied: sympy>=1.13.3 in c:\\users\\sergey004\\source\\repos\\telegram_diffusers_bot\\.venv\\lib\\site-packages (from torch>=2.0.0->-r requirements.txt (line 2)) (1.14.0)\n",
            "Requirement already satisfied: networkx in c:\\users\\sergey004\\source\\repos\\telegram_diffusers_bot\\.venv\\lib\\site-packages (from torch>=2.0.0->-r requirements.txt (line 2)) (3.5)\n",
            "Requirement already satisfied: jinja2 in c:\\users\\sergey004\\source\\repos\\telegram_diffusers_bot\\.venv\\lib\\site-packages (from torch>=2.0.0->-r requirements.txt (line 2)) (3.1.6)\n",
            "Requirement already satisfied: fsspec in c:\\users\\sergey004\\source\\repos\\telegram_diffusers_bot\\.venv\\lib\\site-packages (from torch>=2.0.0->-r requirements.txt (line 2)) (2025.7.0)\n",
            "Requirement already satisfied: importlib_metadata in c:\\users\\sergey004\\source\\repos\\telegram_diffusers_bot\\.venv\\lib\\site-packages (from diffusers>=0.26.0->diffusers[torch]>=0.26.0->-r requirements.txt (line 3)) (8.7.0)\n",
            "Requirement already satisfied: huggingface-hub>=0.34.0 in c:\\users\\sergey004\\source\\repos\\telegram_diffusers_bot\\.venv\\lib\\site-packages (from diffusers>=0.26.0->diffusers[torch]>=0.26.0->-r requirements.txt (line 3)) (0.34.4)\n",
            "Requirement already satisfied: numpy in c:\\users\\sergey004\\source\\repos\\telegram_diffusers_bot\\.venv\\lib\\site-packages (from diffusers>=0.26.0->diffusers[torch]>=0.26.0->-r requirements.txt (line 3)) (2.3.2)\n",
            "Requirement already satisfied: regex!=2019.12.17 in c:\\users\\sergey004\\source\\repos\\telegram_diffusers_bot\\.venv\\lib\\site-packages (from diffusers>=0.26.0->diffusers[torch]>=0.26.0->-r requirements.txt (line 3)) (2025.9.1)\n",
            "Requirement already satisfied: safetensors>=0.3.1 in c:\\users\\sergey004\\source\\repos\\telegram_diffusers_bot\\.venv\\lib\\site-packages (from diffusers>=0.26.0->diffusers[torch]>=0.26.0->-r requirements.txt (line 3)) (0.6.2)\n",
            "Requirement already satisfied: Pillow in c:\\users\\sergey004\\source\\repos\\telegram_diffusers_bot\\.venv\\lib\\site-packages (from diffusers>=0.26.0->diffusers[torch]>=0.26.0->-r requirements.txt (line 3)) (11.3.0)\n",
            "Requirement already satisfied: packaging>=20.0 in c:\\users\\sergey004\\source\\repos\\telegram_diffusers_bot\\.venv\\lib\\site-packages (from transformers>=4.40.0->-r requirements.txt (line 4)) (25.0)\n",
            "Requirement already satisfied: pyyaml>=5.1 in c:\\users\\sergey004\\source\\repos\\telegram_diffusers_bot\\.venv\\lib\\site-packages (from transformers>=4.40.0->-r requirements.txt (line 4)) (6.0.2)\n",
            "Requirement already satisfied: tokenizers<=0.23.0,>=0.22.0 in c:\\users\\sergey004\\source\\repos\\telegram_diffusers_bot\\.venv\\lib\\site-packages (from transformers>=4.40.0->-r requirements.txt (line 4)) (0.22.0)\n",
            "Requirement already satisfied: tqdm>=4.27 in c:\\users\\sergey004\\source\\repos\\telegram_diffusers_bot\\.venv\\lib\\site-packages (from transformers>=4.40.0->-r requirements.txt (line 4)) (4.67.1)\n",
            "Requirement already satisfied: psutil in c:\\users\\sergey004\\source\\repos\\telegram_diffusers_bot\\.venv\\lib\\site-packages (from accelerate>=0.30.0->-r requirements.txt (line 5)) (7.0.0)\n",
            "Requirement already satisfied: charset_normalizer<4,>=2 in c:\\users\\sergey004\\source\\repos\\telegram_diffusers_bot\\.venv\\lib\\site-packages (from requests>=2.31.0->-r requirements.txt (line 6)) (3.4.3)\n",
            "Requirement already satisfied: urllib3<3,>=1.21.1 in c:\\users\\sergey004\\source\\repos\\telegram_diffusers_bot\\.venv\\lib\\site-packages (from requests>=2.31.0->-r requirements.txt (line 6)) (2.5.0)\n",
            "Requirement already satisfied: aiohappyeyeballs>=2.5.0 in c:\\users\\sergey004\\source\\repos\\telegram_diffusers_bot\\.venv\\lib\\site-packages (from aiohttp>=3.9.0->-r requirements.txt (line 8)) (2.6.1)\n",
            "Requirement already satisfied: aiosignal>=1.4.0 in c:\\users\\sergey004\\source\\repos\\telegram_diffusers_bot\\.venv\\lib\\site-packages (from aiohttp>=3.9.0->-r requirements.txt (line 8)) (1.4.0)\n",
            "Requirement already satisfied: attrs>=17.3.0 in c:\\users\\sergey004\\source\\repos\\telegram_diffusers_bot\\.venv\\lib\\site-packages (from aiohttp>=3.9.0->-r requirements.txt (line 8)) (25.3.0)\n",
            "Requirement already satisfied: frozenlist>=1.1.1 in c:\\users\\sergey004\\source\\repos\\telegram_diffusers_bot\\.venv\\lib\\site-packages (from aiohttp>=3.9.0->-r requirements.txt (line 8)) (1.7.0)\n",
            "Requirement already satisfied: multidict<7.0,>=4.5 in c:\\users\\sergey004\\source\\repos\\telegram_diffusers_bot\\.venv\\lib\\site-packages (from aiohttp>=3.9.0->-r requirements.txt (line 8)) (6.6.4)\n",
            "Requirement already satisfied: propcache>=0.2.0 in c:\\users\\sergey004\\source\\repos\\telegram_diffusers_bot\\.venv\\lib\\site-packages (from aiohttp>=3.9.0->-r requirements.txt (line 8)) (0.3.2)\n",
            "Requirement already satisfied: yarl<2.0,>=1.17.0 in c:\\users\\sergey004\\source\\repos\\telegram_diffusers_bot\\.venv\\lib\\site-packages (from aiohttp>=3.9.0->-r requirements.txt (line 8)) (1.20.1)\n",
            "Requirement already satisfied: mpmath<1.4,>=1.1.0 in c:\\users\\sergey004\\source\\repos\\telegram_diffusers_bot\\.venv\\lib\\site-packages (from sympy>=1.13.3->torch>=2.0.0->-r requirements.txt (line 2)) (1.3.0)\n",
            "Requirement already satisfied: colorama in c:\\users\\sergey004\\source\\repos\\telegram_diffusers_bot\\.venv\\lib\\site-packages (from tqdm>=4.27->transformers>=4.40.0->-r requirements.txt (line 4)) (0.4.6)\n",
            "Requirement already satisfied: sniffio>=1.1 in c:\\users\\sergey004\\source\\repos\\telegram_diffusers_bot\\.venv\\lib\\site-packages (from anyio->httpx<0.29,>=0.27->python-telegram-bot>=20.0->-r requirements.txt (line 1)) (1.3.1)\n",
            "Requirement already satisfied: zipp>=3.20 in c:\\users\\sergey004\\source\\repos\\telegram_diffusers_bot\\.venv\\lib\\site-packages (from importlib_metadata->diffusers>=0.26.0->diffusers[torch]>=0.26.0->-r requirements.txt (line 3)) (3.23.0)\n",
            "Requirement already satisfied: MarkupSafe>=2.0 in c:\\users\\sergey004\\source\\repos\\telegram_diffusers_bot\\.venv\\lib\\site-packages (from jinja2->torch>=2.0.0->-r requirements.txt (line 2)) (3.0.2)\n",
            "Looking in indexes: https://pypi.org/simple, https://download.pytorch.org/whl/cu118\n",
            "Requirement already satisfied: torch in c:\\users\\sergey004\\source\\repos\\telegram_diffusers_bot\\.venv\\lib\\site-packages (2.8.0)\n",
            "Requirement already satisfied: torchvision in c:\\users\\sergey004\\source\\repos\\telegram_diffusers_bot\\.venv\\lib\\site-packages (0.23.0)\n",
            "Requirement already satisfied: torchaudio in c:\\users\\sergey004\\source\\repos\\telegram_diffusers_bot\\.venv\\lib\\site-packages (2.8.0)\n",
            "Requirement already satisfied: filelock in c:\\users\\sergey004\\source\\repos\\telegram_diffusers_bot\\.venv\\lib\\site-packages (from torch) (3.19.1)\n",
            "Requirement already satisfied: typing-extensions>=4.10.0 in c:\\users\\sergey004\\source\\repos\\telegram_diffusers_bot\\.venv\\lib\\site-packages (from torch) (4.15.0)\n",
            "Requirement already satisfied: sympy>=1.13.3 in c:\\users\\sergey004\\source\\repos\\telegram_diffusers_bot\\.venv\\lib\\site-packages (from torch) (1.14.0)\n",
            "Requirement already satisfied: networkx in c:\\users\\sergey004\\source\\repos\\telegram_diffusers_bot\\.venv\\lib\\site-packages (from torch) (3.5)\n",
            "Requirement already satisfied: jinja2 in c:\\users\\sergey004\\source\\repos\\telegram_diffusers_bot\\.venv\\lib\\site-packages (from torch) (3.1.6)\n",
            "Requirement already satisfied: fsspec in c:\\users\\sergey004\\source\\repos\\telegram_diffusers_bot\\.venv\\lib\\site-packages (from torch) (2025.7.0)\n",
            "Requirement already satisfied: numpy in c:\\users\\sergey004\\source\\repos\\telegram_diffusers_bot\\.venv\\lib\\site-packages (from torchvision) (2.3.2)\n",
            "Requirement already satisfied: pillow!=8.3.*,>=5.3.0 in c:\\users\\sergey004\\source\\repos\\telegram_diffusers_bot\\.venv\\lib\\site-packages (from torchvision) (11.3.0)\n",
            "Requirement already satisfied: mpmath<1.4,>=1.1.0 in c:\\users\\sergey004\\source\\repos\\telegram_diffusers_bot\\.venv\\lib\\site-packages (from sympy>=1.13.3->torch) (1.3.0)\n",
            "Requirement already satisfied: MarkupSafe>=2.0 in c:\\users\\sergey004\\source\\repos\\telegram_diffusers_bot\\.venv\\lib\\site-packages (from jinja2->torch) (3.0.2)\n"
          ]
        }
      ],
      "source": [
        "# 1️⃣ Install dependencies\\n\n",
        "!pip install  -r requirements.txt\n",
        "# Install torch with CUDA support (adjust version if needed)\\n\n",
        "!pip install  torch torchvision torchaudio --extra-index-url https://download.pytorch.org/whl/cu118"
      ]
    },
    {
      "cell_type": "code",
      "execution_count": 6,
      "id": "GHMX9rKqFadX",
      "metadata": {
        "id": "GHMX9rKqFadX"
      },
      "outputs": [
        {
          "name": "stderr",
          "output_type": "stream",
          "text": [
            "Traceback (most recent call last):\n",
            "  File \"c:\\Users\\Sergey004\\source\\repos\\telegram_diffusers_bot\\main.py\", line 65, in <module>\n",
            "    asyncio.run(main())\n",
            "  File \"C:\\Users\\Sergey004\\AppData\\Local\\Programs\\Python\\Python311\\Lib\\asyncio\\runners.py\", line 190, in run\n",
            "    return runner.run(main)\n",
            "           ^^^^^^^^^^^^^^^^\n",
            "  File \"C:\\Users\\Sergey004\\AppData\\Local\\Programs\\Python\\Python311\\Lib\\asyncio\\runners.py\", line 118, in run\n",
            "    return self._loop.run_until_complete(task)\n",
            "           ^^^^^^^^^^^^^^^^^^^^^^^^^^^^^^^^^^^\n",
            "  File \"C:\\Users\\Sergey004\\AppData\\Local\\Programs\\Python\\Python311\\Lib\\asyncio\\base_events.py\", line 654, in run_until_complete\n",
            "    return future.result()\n",
            "           ^^^^^^^^^^^^^^^\n",
            "  File \"c:\\Users\\Sergey004\\source\\repos\\telegram_diffusers_bot\\main.py\", line 38, in main\n",
            "    raise RuntimeError(\"TELEGRAM_TOKEN not set in environment variables.\")\n",
            "RuntimeError: TELEGRAM_TOKEN not set in environment variables.\n"
          ]
        }
      ],
      "source": [
        "# 4️⃣ Run the bot (this cell will keep running)\\n\n",
        "!python main.py"
      ]
    },
    {
      "cell_type": "markdown",
      "id": "Ri-dzWzlFadX",
      "metadata": {
        "id": "Ri-dzWzlFadX"
      },
      "source": [
        "The bot will start polling Telegram. Keep this cell running (do not interrupt) to keep the bot alive.\\n\n",
        "You can stop the bot at any time by clicking the **Stop** button in the notebook toolbar."
      ]
    }
  ],
  "metadata": {
    "colab": {
      "provenance": []
    },
    "kernelspec": {
      "display_name": ".venv (3.11.9)",
      "language": "python",
      "name": "python3"
    },
    "language_info": {
      "codemirror_mode": {
        "name": "ipython",
        "version": 3
      },
      "file_extension": ".py",
      "mimetype": "text/x-python",
      "name": "python",
      "nbconvert_exporter": "python",
      "pygments_lexer": "ipython3",
      "version": "3.11.9"
    }
  },
  "nbformat": 4,
  "nbformat_minor": 5
}
