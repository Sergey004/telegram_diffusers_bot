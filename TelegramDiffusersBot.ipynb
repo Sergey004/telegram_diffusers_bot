{
  "cells": [
    {
      "cell_type": "markdown",
      "metadata": {
        "id": "KbnhpmAxFadS"
      },
      "source": [
        "# Telegram Diffusers Bot (SDXL) – Google Colab Setup"
      ],
      "id": "KbnhpmAxFadS"
    },
    {
      "cell_type": "markdown",
      "metadata": {
        "id": "U4sfWnCgFadU"
      },
      "source": [
        "This notebook will install all required dependencies, clone the repository, set up the environment variables, and start the Telegram bot that uses **Stable Diffusion XL (SDXL)** with optional LoRA models and optional LLM‑generated prompts (via Nvidia NIM)."
      ],
      "id": "U4sfWnCgFadU"
    },
    {
      "cell_type": "code",
      "execution_count": null,
      "id": "4f2670b7",
      "metadata": {
        "id": "4f2670b7"
      },
      "outputs": [],
      "source": [
        "#Keep this tab alive to prevent Colab from disconnecting you { display-mode: \"form\" }\n",
        "\n",
        "#@markdown Press play on the music player that will appear below:\n",
        "%%html\n",
        "<audio src=\"https://oobabooga.github.io/silence.m4a\" controls>"
      ]
    },
    {
      "cell_type": "code",
      "execution_count": null,
      "metadata": {
        "id": "-y_r7qZnFadW"
      },
      "outputs": [],
      "source": [
        "# 1️⃣ Install dependencies\\n\n",
        "!pip install -q -r https://raw.githubusercontent.com/Sergey004/telegram_diffusers_bot/main/requirements.txt\n",
        "# Install torch with CUDA support (adjust version if needed)\\n\n",
        "!pip install -q torch torchvision torchaudio --extra-index-url https://download.pytorch.org/whl/cu118"
      ],
      "id": "-y_r7qZnFadW"
    },
    {
      "cell_type": "code",
      "execution_count": null,
      "metadata": {
        "id": "582cLsJ7FadX"
      },
      "outputs": [],
      "source": [
        "# 2️⃣ Clone the repository (or upload the files manually)\\n\n",
        "!git clone https://github.com/Sergey004/telegram_diffusers_bot.git\\n\n",
        "%cd telegram_diffusers_bot"
      ],
      "id": "582cLsJ7FadX"
    },
    {
      "cell_type": "code",
      "execution_count": null,
      "metadata": {
        "id": "GjzSoYWoFadX"
      },
      "outputs": [],
      "source": [
        "# 3️⃣ Create a .env file from the example – fill in your values\\n\n",
        "%%writefile config/.env\\n\n",
        "TELEGRAM_TOKEN=YOUR_TELEGRAM_BOT_TOKEN\\n\n",
        "CHANNEL_ID=YOUR_TARGET_CHANNEL_ID   # e.g. -1001234567890\\n\n",
        "NVIDIA_API_KEY=YOUR_NVIDIA_API_KEY   # optional, needed for LLM prompt generation"
      ],
      "id": "GjzSoYWoFadX"
    },
    {
      "cell_type": "markdown",
      "metadata": {
        "id": "0BieQBIsFadX"
      },
      "source": [
        "Replace the placeholder values in the `.env` file with your actual Telegram bot token, the numeric ID of the channel where images should be posted, and (optionally) your Nvidia NIM API key."
      ],
      "id": "0BieQBIsFadX"
    },
    {
      "cell_type": "code",
      "execution_count": null,
      "metadata": {
        "id": "GHMX9rKqFadX"
      },
      "outputs": [],
      "source": [
        "# 4️⃣ Run the bot (this cell will keep running)\\n\n",
        "!python bot/main.py"
      ],
      "id": "GHMX9rKqFadX"
    },
    {
      "cell_type": "markdown",
      "metadata": {
        "id": "Ri-dzWzlFadX"
      },
      "source": [
        "The bot will start polling Telegram. Keep this cell running (do not interrupt) to keep the bot alive.\\n\n",
        "You can stop the bot at any time by clicking the **Stop** button in the notebook toolbar."
      ],
      "id": "Ri-dzWzlFadX"
    }
  ],
  "metadata": {
    "kernelspec": {
      "display_name": "Python 3",
      "language": "python",
      "name": "python3"
    },
    "language_info": {
      "name": "python",
      "version": "3.10"
    },
    "colab": {
      "provenance": []
    }
  },
  "nbformat": 4,
  "nbformat_minor": 5
}