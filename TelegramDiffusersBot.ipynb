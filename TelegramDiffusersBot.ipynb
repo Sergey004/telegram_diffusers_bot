{
  "cells": [
    {
      "cell_type": "markdown",
      "id": "KbnhpmAxFadS",
      "metadata": {
        "id": "KbnhpmAxFadS"
      },
      "source": [
        "# Telegram Diffusers Bot (SDXL) – Google Colab Setup"
      ]
    },
    {
      "cell_type": "markdown",
      "id": "U4sfWnCgFadU",
      "metadata": {
        "id": "U4sfWnCgFadU"
      },
      "source": [
        "This notebook will install all required dependencies, clone the repository, set up the environment variables, and start the Telegram bot that uses **Stable Diffusion XL (SDXL)** with optional LoRA models and optional LLM‑generated prompts (via Nvidia NIM)."
      ]
    },
    {
      "cell_type": "code",
      "execution_count": null,
      "id": "4f2670b7",
      "metadata": {
        "id": "4f2670b7"
      },
      "outputs": [],
      "source": [
        "#Keep this tab alive to prevent Colab from disconnecting you { display-mode: \"form\" }\n",
        "\n",
        "#@markdown Press play on the music player that will appear below:\n",
        "%%html\n",
        "<audio src=\"https://oobabooga.github.io/silence.m4a\" controls>"
      ]
    },
    {
      "cell_type": "code",
      "execution_count": 1,
      "id": "-y_r7qZnFadW",
      "metadata": {
        "id": "-y_r7qZnFadW"
      },
      "outputs": [
        {
          "name": "stderr",
          "output_type": "stream",
          "text": [
            "ERROR: 404 Client Error: Not Found for url: https://raw.githubusercontent.com/Sergey004/telegram_diffusers_bot/main/requirements.txt\n"
          ]
        }
      ],
      "source": [
        "# 1️⃣ Install dependencies\\n\n",
        "!pip install -q -r https://raw.githubusercontent.com/Sergey004/telegram_diffusers_bot/main/requirements.txt\n",
        "# Install torch with CUDA support (adjust version if needed)\\n\n",
        "!pip install -q torch torchvision torchaudio --extra-index-url https://download.pytorch.org/whl/cu118"
      ]
    },
    {
      "cell_type": "code",
      "execution_count": null,
      "id": "582cLsJ7FadX",
      "metadata": {
        "id": "582cLsJ7FadX"
      },
      "outputs": [],
      "source": [
        "# 2️⃣ Clone the repository (or upload the files manually)\\n\n",
        "!git clone https://github.com/Sergey004/telegram_diffusers_bot.git\\n\n",
        "%cd telegram_diffusers_bot"
      ]
    },
    {
      "cell_type": "code",
      "execution_count": null,
      "id": "GHMX9rKqFadX",
      "metadata": {
        "id": "GHMX9rKqFadX"
      },
      "outputs": [],
      "source": [
        "# 4️⃣ Run the bot (this cell will keep running)\\n\n",
        "!python bot/main.py"
      ]
    },
    {
      "cell_type": "markdown",
      "id": "Ri-dzWzlFadX",
      "metadata": {
        "id": "Ri-dzWzlFadX"
      },
      "source": [
        "The bot will start polling Telegram. Keep this cell running (do not interrupt) to keep the bot alive.\\n\n",
        "You can stop the bot at any time by clicking the **Stop** button in the notebook toolbar."
      ]
    }
  ],
  "metadata": {
    "colab": {
      "provenance": []
    },
    "kernelspec": {
      "display_name": ".venv (3.11.9)",
      "language": "python",
      "name": "python3"
    },
    "language_info": {
      "codemirror_mode": {
        "name": "ipython",
        "version": 3
      },
      "file_extension": ".py",
      "mimetype": "text/x-python",
      "name": "python",
      "nbconvert_exporter": "python",
      "pygments_lexer": "ipython3",
      "version": "3.11.9"
    }
  },
  "nbformat": 4,
  "nbformat_minor": 5
}
