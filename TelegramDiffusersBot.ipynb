{
 "cells": [
  {
   "cell_type": "markdown",
   "metadata": {},
   "source": [
    "# Telegram Diffusers Bot (SDXL) – Google Colab Setup"
   ]
  },
  {
   "cell_type": "markdown",
   "metadata": {},
   "source": [
    "This notebook will install all required dependencies, clone the repository, set up the environment variables, and start the Telegram bot that uses **Stable Diffusion XL (SDXL)** with optional LoRA models and optional LLM‑generated prompts (via Nvidia NIM)."
   ]
  },
  {
   "cell_type": "code",
   "metadata": {},
   "source": [
    "# 1️⃣ Install dependencies\\n",
    "!pip install -q -r https://raw.githubusercontent.com/yourusername/telegram_diffusers_bot/main/requirements.txt\\n",
    "# Install torch with CUDA support (adjust version if needed)\\n",
    "!pip install -q torch torchvision torchaudio --extra-index-url https://download.pytorch.org/whl/cu118"
   ],
   "execution_count": null,
   "outputs": []
  },
  {
   "cell_type": "code",
   "metadata": {},
   "source": [
    "# 2️⃣ Clone the repository (or upload the files manually)\\n",
    "!git clone https://github.com/yourusername/telegram_diffusers_bot.git\\n",
    "%cd telegram_diffusers_bot"
   ],
   "execution_count": null,
   "outputs": []
  },
  {
   "cell_type": "code",
   "metadata": {},
   "source": [
    "# 3️⃣ Create a .env file from the example – fill in your values\\n",
    "%%writefile config/.env\\n",
    "TELEGRAM_TOKEN=YOUR_TELEGRAM_BOT_TOKEN\\n",
    "CHANNEL_ID=YOUR_TARGET_CHANNEL_ID   # e.g. -1001234567890\\n",
    "NVIDIA_API_KEY=YOUR_NVIDIA_API_KEY   # optional, needed for LLM prompt generation"
   ],
   "execution_count": null,
   "outputs": []
  },
  {
   "cell_type": "markdown",
   "metadata": {},
   "source": [
    "Replace the placeholder values in the `.env` file with your actual Telegram bot token, the numeric ID of the channel where images should be posted, and (optionally) your Nvidia NIM API key."
   ]
  },
  {
   "cell_type": "code",
   "metadata": {},
   "source": [
    "# 4️⃣ Run the bot (this cell will keep running)\\n",
    "!python bot/main.py"
   ],
   "execution_count": null,
   "outputs": []
  },
  {
   "cell_type": "markdown",
   "metadata": {},
   "source": [
    "The bot will start polling Telegram. Keep this cell running (do not interrupt) to keep the bot alive.\\n",
    "You can stop the bot at any time by clicking the **Stop** button in the notebook toolbar."
   ]
  }
 ],
 "metadata": {
  "kernelspec": {
   "display_name": "Python 3",
   "language": "python",
   "name": "python3"
  },
  "language_info": {
   "name": "python",
   "version": "3.10"
  }
 },
 "nbformat": 4,
 "nbformat_minor": 5
}
